{
 "cells": [
  {
   "cell_type": "markdown",
   "metadata": {},
   "source": [
    "# Using `matplotlib` to display inline images\n",
    "\n",
    "In this notebook we will explore using `matplotlib` to display images in our notebooks, and work towards developing a reusable function to display 2D,3D, color, and label overlays for SimpleITK images."
   ]
  },
  {
   "cell_type": "code",
   "execution_count": null,
   "metadata": {
    "collapsed": false
   },
   "outputs": [],
   "source": [
    "import matplotlib.pyplot as plt\n",
    "%matplotlib inline\n",
    "import SimpleITK as sitk\n",
    "# Download data to work on\n",
    "from downloaddata import fetch_data as fdata"
   ]
  },
  {
   "cell_type": "markdown",
   "metadata": {},
   "source": [
    "SimpleITK has a build in `Show` method which saves the image to disk and launches a user configurable program ( defaults to ImageJ ), to display the image. "
   ]
  },
  {
   "cell_type": "code",
   "execution_count": null,
   "metadata": {
    "collapsed": false
   },
   "outputs": [],
   "source": [
    "img1 = sitk.ReadImage(fdata(\"cthead1.png\"))\n",
    "sitk.Show(img1, title=\"cthead1\")"
   ]
  },
  {
   "cell_type": "code",
   "execution_count": null,
   "metadata": {
    "collapsed": false
   },
   "outputs": [],
   "source": [
    "img2 = sitk.ReadImage(fdata(\"VM1111Shrink-RGB.png\"))\n",
    "sitk.Show(img2, title=\"Visible Human Head\")"
   ]
  },
  {
   "cell_type": "code",
   "execution_count": null,
   "metadata": {
    "collapsed": false
   },
   "outputs": [],
   "source": [
    "nda = sitk.GetArrayFromImage(img1)\n",
    "plt.imshow(nda)"
   ]
  },
  {
   "cell_type": "code",
   "execution_count": null,
   "metadata": {
    "collapsed": false
   },
   "outputs": [],
   "source": [
    "nda = sitk.GetArrayFromImage(img2)\n",
    "ax = plt.imshow(nda)"
   ]
  },
  {
   "cell_type": "code",
   "execution_count": null,
   "metadata": {
    "collapsed": false
   },
   "outputs": [],
   "source": [
    "def myshow(img):\n",
    "    nda = sitk.GetArrayFromImage(img)\n",
    "    plt.imshow(nda)"
   ]
  },
  {
   "cell_type": "code",
   "execution_count": null,
   "metadata": {
    "collapsed": false
   },
   "outputs": [],
   "source": [
    "myshow(img2)"
   ]
  },
  {
   "cell_type": "code",
   "execution_count": null,
   "metadata": {
    "collapsed": false
   },
   "outputs": [],
   "source": [
    "myshow(sitk.Expand(img2, [10]*5))"
   ]
  },
  {
   "cell_type": "markdown",
   "metadata": {},
   "source": [
    "This image does not appear bigger.\n",
    "\n",
    "There are numerous improvements that we can make:\n",
    "\n",
    " - support 3d images\n",
    " - include a title\n",
    " - use physical pixel size for axis labels\n",
    " - show the image as gray values"
   ]
  },
  {
   "cell_type": "code",
   "execution_count": null,
   "metadata": {
    "collapsed": false
   },
   "outputs": [],
   "source": [
    "def myshow(img, title=None, margin=0.05, dpi=80):\n",
    "    nda = sitk.GetArrayFromImage(img)\n",
    "    spacing = img.GetSpacing()\n",
    "        \n",
    "    if nda.ndim == 3:\n",
    "        # fastest dim, either component or x\n",
    "        c = nda.shape[-1]\n",
    "        \n",
    "        # the the number of components is 3 or 4 consider it an RGB image\n",
    "        if not c in (3,4):\n",
    "            nda = nda[nda.shape[0]//2,:,:]\n",
    "    \n",
    "    elif nda.ndim == 4:\n",
    "        c = nda.shape[-1]\n",
    "        \n",
    "        if not c in (3,4):\n",
    "            raise Runtime(\"Unable to show 3D-vector Image\")\n",
    "            \n",
    "        # take a z-slice\n",
    "        nda = nda[nda.shape[0]//2,:,:,:]\n",
    "            \n",
    "    ysize = nda.shape[0]\n",
    "    xsize = nda.shape[1]\n",
    "      \n",
    "    # Make a figure big enough to accomodate an axis of xpixels by ypixels\n",
    "    # as well as the ticklabels, etc...\n",
    "    figsize = (1 + margin) * ysize / dpi, (1 + margin) * xsize / dpi\n",
    "\n",
    "    fig = plt.figure(figsize=figsize, dpi=dpi)\n",
    "    # Make the axis the right size...\n",
    "    ax = fig.add_axes([margin, margin, 1 - 2*margin, 1 - 2*margin])\n",
    "    \n",
    "    extent = (0, xsize*spacing[1], ysize*spacing[0], 0)\n",
    "    \n",
    "    t = ax.imshow(nda,extent=extent,interpolation=None)\n",
    "    \n",
    "    if nda.ndim == 2:\n",
    "        t.set_cmap(\"gray\")\n",
    "    \n",
    "    if(title):\n",
    "        plt.title(title)"
   ]
  },
  {
   "cell_type": "code",
   "execution_count": null,
   "metadata": {
    "collapsed": false
   },
   "outputs": [],
   "source": [
    "myshow(sitk.Expand(img2,[2,2]), title=\"Big Visibile Human Head\")"
   ]
  },
  {
   "cell_type": "markdown",
   "metadata": {},
   "source": [
    "## Tips and Tricks for Visualizing Segmentations"
   ]
  },
  {
   "cell_type": "code",
   "execution_count": null,
   "metadata": {
    "collapsed": false
   },
   "outputs": [],
   "source": [
    "img1_seg = sitk.ReadImage(fdata(\"2th_cthead1.png\"))\n",
    "myshow(img1_seg, \"Label Image as Grayscale\")"
   ]
  },
  {
   "cell_type": "code",
   "execution_count": null,
   "metadata": {
    "collapsed": false
   },
   "outputs": [],
   "source": [
    "myshow(sitk.LabelToRGB(img1_seg), title=\"Label Image as RGB\")"
   ]
  },
  {
   "cell_type": "markdown",
   "metadata": {},
   "source": [
    "Most filters which take multiple images as arguments require that the images occupy the same physical space. That is the pixel you are operating must refer to the same location."
   ]
  },
  {
   "cell_type": "code",
   "execution_count": null,
   "metadata": {
    "collapsed": false
   },
   "outputs": [],
   "source": [
    "# This fails because the images don't occupy the same physical scale.\n",
    "myshow(sitk.LabelOverlay(img1, img1_seg), title=\"Label Overlayed\")"
   ]
  },
  {
   "cell_type": "markdown",
   "metadata": {},
   "source": [
    "Ideally, this meta-data is retained, so images are consistent. However, the situation is not ideal, and image meta-data needs to be fixed."
   ]
  },
  {
   "cell_type": "code",
   "execution_count": null,
   "metadata": {
    "collapsed": false
   },
   "outputs": [],
   "source": [
    "img1_seg.CopyInformation(img1)"
   ]
  },
  {
   "cell_type": "code",
   "execution_count": null,
   "metadata": {
    "collapsed": false
   },
   "outputs": [],
   "source": [
    "myshow(sitk.LabelOverlay(img1, sitk.LabelContour(img1_seg), 1.0))"
   ]
  },
  {
   "cell_type": "markdown",
   "metadata": {},
   "source": [
    "## Tips and Tricks for 3D Image Visualization\n",
    "\n",
    "Now lets move on to visualizing real MRI images with segmentations. The Surgical Planning Laboratory at Brigham and Women's Hospital has a wonderful [Multi-modality MRI-based Atlas of the Brain](http://www.spl.harvard.edu/publications/item/view/2037) that we can use.\n",
    "\n",
    "Please note, what is done here is for convenience and is not the correct way to display images for radiological work."
   ]
  },
  {
   "cell_type": "code",
   "execution_count": null,
   "metadata": {
    "collapsed": false
   },
   "outputs": [],
   "source": [
    "img_T1 = sitk.ReadImage(fdata(\"nac-hncma-atlas2013-Slicer4Version/Data/A1_grayT1.nrrd\"))\n",
    "img_T2 = sitk.ReadImage(fdata(\"nac-hncma-atlas2013-Slicer4Version/Data/A1_grayT2.nrrd\"))\n",
    "img_labels = sitk.ReadImage(fdata(\"nac-hncma-atlas2013-Slicer4Version/Data/hncma-atlas.nrrd\"))"
   ]
  },
  {
   "cell_type": "code",
   "execution_count": null,
   "metadata": {
    "collapsed": false
   },
   "outputs": [],
   "source": [
    "myshow(img_T1)\n",
    "myshow(img_T2)\n",
    "myshow(sitk.LabelToRGB(img_labels))"
   ]
  },
  {
   "cell_type": "code",
   "execution_count": null,
   "metadata": {
    "collapsed": false
   },
   "outputs": [],
   "source": [
    "size = img_T1.GetSize()\n",
    "myshow(img_T1[:,size[1]//2,:])"
   ]
  },
  {
   "cell_type": "code",
   "execution_count": null,
   "metadata": {
    "collapsed": false
   },
   "outputs": [],
   "source": [
    "slices =[img_T1[size[0]//2,:,:], img_T1[:,size[1]//2,:], img_T1[:,:,size[2]//2]]\n",
    "myshow(sitk.Tile(slices, [3,1]), dpi=20)"
   ]
  },
  {
   "cell_type": "code",
   "execution_count": null,
   "metadata": {
    "collapsed": false
   },
   "outputs": [],
   "source": [
    "nslices = 5\n",
    "slices = [ img_T1[:,:,s] for s in range(0, size[2], size[0]//(nslices+1))]\n",
    "myshow(sitk.Tile(slices, [1,0]))"
   ]
  },
  {
   "cell_type": "markdown",
   "metadata": {},
   "source": [
    "Let's create a version of the show methods which allows the selection of slices to be displayed."
   ]
  },
  {
   "cell_type": "code",
   "execution_count": null,
   "metadata": {
    "collapsed": false
   },
   "outputs": [],
   "source": [
    "def myshow3d(img, xslices=[], yslices=[], zslices=[], title=None, margin=0.05, dpi=80):\n",
    "    size = img.GetSize()\n",
    "    img_xslices = [img[s,:,:] for s in xslices]\n",
    "    img_yslices = [img[:,s,:] for s in yslices]\n",
    "    img_zslices = [img[:,:,s] for s in zslices]\n",
    "    \n",
    "    maxlen = max(len(img_xslices), len(img_yslices), len(img_zslices))\n",
    "    \n",
    "        \n",
    "    img_null = sitk.Image([0,0], img.GetPixelIDValue(), img.GetNumberOfComponentsPerPixel())\n",
    "    \n",
    "    img_slices = []\n",
    "    d = 0\n",
    "    \n",
    "    if len(img_xslices):\n",
    "        img_slices += img_xslices + [img_null]*(maxlen-len(img_xslices))\n",
    "        d += 1\n",
    "        \n",
    "    if len(img_yslices):\n",
    "        img_slices += img_yslices + [img_null]*(maxlen-len(img_yslices))\n",
    "        d += 1\n",
    "     \n",
    "    if len(img_zslices):\n",
    "        img_slices += img_zslices + [img_null]*(maxlen-len(img_zslices))\n",
    "        d +=1\n",
    "    \n",
    "    if maxlen != 0:\n",
    "        if img.GetNumberOfComponentsPerPixel() == 1:\n",
    "            img = sitk.Tile(img_slices, [maxlen,d])\n",
    "        #TODO check in code to get Tile Filter working with VectorImages\n",
    "        else:\n",
    "            img_comps = []\n",
    "            for i in range(0,img.GetNumberOfComponentsPerPixel()):\n",
    "                img_slices_c = [sitk.VectorIndexSelectionCast(s, i) for s in img_slices]\n",
    "                img_comps.append(sitk.Tile(img_slices_c, [maxlen,d]))\n",
    "            img = sitk.Compose(img_comps)\n",
    "            \n",
    "    \n",
    "    myshow(img, title, margin, dpi)\n"
   ]
  },
  {
   "cell_type": "code",
   "execution_count": null,
   "metadata": {
    "collapsed": false
   },
   "outputs": [],
   "source": [
    "myshow3d(img_T1,yslices=range(50,size[1]-50,20), zslices=range(50,size[2]-50,20), dpi=30)"
   ]
  },
  {
   "cell_type": "code",
   "execution_count": null,
   "metadata": {
    "collapsed": false
   },
   "outputs": [],
   "source": [
    "myshow3d(img_T2,yslices=range(50,size[1]-50,30), zslices=range(50,size[2]-50,20), dpi=30)"
   ]
  },
  {
   "cell_type": "code",
   "execution_count": null,
   "metadata": {
    "collapsed": false
   },
   "outputs": [],
   "source": [
    "myshow3d(sitk.LabelToRGB(img_labels),yslices=range(50,size[1]-50,20), zslices=range(50,size[2]-50,20), dpi=30)"
   ]
  },
  {
   "cell_type": "code",
   "execution_count": null,
   "metadata": {
    "collapsed": false
   },
   "outputs": [],
   "source": [
    "# Again the following line fails due to difference in the image location\n",
    "myshow3d(sitk.LabelOverlay(img_T1,img_labels),yslices=range(50,size[1]-50,20), zslices=range(50,size[2]-50,20), dpi=30)"
   ]
  },
  {
   "cell_type": "markdown",
   "metadata": {},
   "source": [
    "Why are the following lines needed?\n",
    "\n",
    "What do they do?"
   ]
  },
  {
   "cell_type": "code",
   "execution_count": null,
   "metadata": {
    "collapsed": false
   },
   "outputs": [],
   "source": [
    "img_labels.CopyInformation(img_T1)"
   ]
  },
  {
   "cell_type": "code",
   "execution_count": null,
   "metadata": {
    "collapsed": false
   },
   "outputs": [],
   "source": [
    "img_T1 = sitk.Cast(sitk.RescaleIntensity(img_T1), sitk.sitkUInt8)"
   ]
  },
  {
   "cell_type": "markdown",
   "metadata": {},
   "source": [
    "This ``myshow`` and ``myshow3d`` function is really useful. It has been copied into a \"myshow.py\" file so that it can be imported into other notebooks."
   ]
  }
 ],
 "metadata": {
  "kernelspec": {
   "display_name": "Python 3",
   "language": "python",
   "name": "python3"
  },
  "language_info": {
   "codemirror_mode": {
    "name": "ipython",
    "version": 3
   },
   "file_extension": ".py",
   "mimetype": "text/x-python",
   "name": "python",
   "nbconvert_exporter": "python",
   "pygments_lexer": "ipython3",
   "version": "3.4.4"
  }
 },
 "nbformat": 4,
 "nbformat_minor": 0
}
