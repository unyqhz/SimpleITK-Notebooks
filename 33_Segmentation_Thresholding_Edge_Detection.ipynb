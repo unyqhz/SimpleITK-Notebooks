{
 "cells": [
  {
   "cell_type": "markdown",
   "metadata": {},
   "source": [
    "<h1 align=\"center\">Segmentation: Thresholding and Edge Detection</h1>\n",
    "\n",
    "In this notebook our goal is to estimate the radius of spherical markers from an image (Cone-Beam CT volume).\n",
    "\n",
    "We will use two approaches:\n",
    "1. Segment the fiducial using a thresholding approach, derive the sphere's radius from the segmentation. This approach is solely based on SimpleITK.\n",
    "2. Localize the fiducial's edges using the Canny edge detector and then fit a sphere to these edges using a least squares approach. This approach is a combination of SimpleITK and scipy/numpy.\n",
    "\n",
    "It should be noted that all of the operations, filtering and computations, are natively in 3D. This is the \"magic\" of ITK and SimpleITK at work."
   ]
  },
  {
   "cell_type": "code",
   "execution_count": null,
   "metadata": {
    "collapsed": false
   },
   "outputs": [],
   "source": [
    "import SimpleITK as sitk\n",
    "\n",
    "from downloaddata import fetch_data as fdata\n",
    "\n",
    "import matplotlib.pyplot as plt\n",
    "%matplotlib inline\n",
    "\n",
    "import numpy as np\n",
    "from scipy import linalg\n",
    "\n",
    "from ipywidgets import interact, fixed"
   ]
  },
  {
   "cell_type": "markdown",
   "metadata": {},
   "source": [
    "Load the volume and look at the image (visualization requires window-leveling)."
   ]
  },
  {
   "cell_type": "code",
   "execution_count": null,
   "metadata": {
    "collapsed": false
   },
   "outputs": [],
   "source": [
    "spherical_fiducials_image = sitk.ReadImage(fdata(\"spherical_fiducials.mha\"))\n",
    "sitk.Show(spherical_fiducials_image, \"spheres\")"
   ]
  },
  {
   "cell_type": "markdown",
   "metadata": {},
   "source": [
    "After looking at the image you should have identified two spheres. Now select a Region Of Interest (ROI) around the sphere which you want to analyze. "
   ]
  },
  {
   "cell_type": "code",
   "execution_count": null,
   "metadata": {
    "collapsed": false
   },
   "outputs": [],
   "source": [
    "rois = {\"ROI1\":[range(280,320), range(65,90), range(8, 30)], \n",
    "        \"ROI2\":[range(200,240), range(65,100), range(15, 40)]}\n",
    "mask_value = 255\n",
    "\n",
    "def select_roi_dropdown_callback(roi_name, roi_dict):\n",
    "    global mask, mask_ranges \n",
    "\n",
    "    mask_ranges = roi_dict.get(roi_name)\n",
    "    if mask_ranges:\n",
    "        mask = sitk.Image(spherical_fiducials_image.GetSize(), sitk.sitkUInt8)\n",
    "        mask.CopyInformation(spherical_fiducials_image)\n",
    "        for x in mask_ranges[0]:\n",
    "            for y in mask_ranges[1]:        \n",
    "                for z in mask_ranges[2]:\n",
    "                    mask[x,y,z] = mask_value\n",
    "        # Use nice magic numbers for windowing the image. We need to do this as we are alpha blending the mask\n",
    "        # with the original image.\n",
    "        sitk.Show(sitk.LabelOverlay(sitk.Cast(sitk.IntensityWindowing(spherical_fiducials_image, windowMinimum=-32767, \n",
    "                                                                      windowMaximum=-29611), sitk.sitkUInt8), \n",
    "                                    mask, opacity=0.5))\n",
    "\n",
    "roi_list = rois.keys()\n",
    "roi_list.insert(0,'Select ROI')\n",
    "interact(select_roi_dropdown_callback, roi_name=roi_list, roi_dict=fixed(rois)); "
   ]
  },
  {
   "cell_type": "markdown",
   "metadata": {},
   "source": [
    "## Thresholding based approach\n",
    "\n",
    "To see whether this approach is appropriate we look at the histogram of intensity values inside the ROI. We know that the spheres have higher intensity values. Ideally we would have a bimodal distribution with clear separation between the sphere and background."
   ]
  },
  {
   "cell_type": "code",
   "execution_count": null,
   "metadata": {
    "collapsed": false
   },
   "outputs": [],
   "source": [
    "intensity_values = sitk.GetArrayFromImage(spherical_fiducials_image)\n",
    "roi_intensity_values = intensity_values[mask_ranges[2][0]:mask_ranges[2][-1],\n",
    "                                        mask_ranges[1][0]:mask_ranges[1][-1],\n",
    "                                        mask_ranges[0][0]:mask_ranges[0][-1]].flatten()\n",
    "plt.hist(roi_intensity_values, bins=100)\n",
    "plt.title(\"Intensity Values in ROI\")\n",
    "plt.show()                                                                                               "
   ]
  },
  {
   "cell_type": "markdown",
   "metadata": {},
   "source": [
    "Can you identify the region of the histogram associated with the sphere?\n",
    "\n",
    "In our case it looks like we can automatically select a threshold separating the sphere from the background. We will use Otsu's method for threshold selection to segment the sphere and estimate its radius. "
   ]
  },
  {
   "cell_type": "code",
   "execution_count": null,
   "metadata": {
    "collapsed": false
   },
   "outputs": [],
   "source": [
    "# Set pixels that are in [min_intensity,otsu_threshold] to inside_value, values above otsu_threshold are\n",
    "# set to outside_value. The sphere's have higher intensity values than the background, so they are outside.\n",
    "\n",
    "inside_value = 0\n",
    "outside_value = 255\n",
    "number_of_histogram_bins = 100\n",
    "mask_output = True\n",
    "\n",
    "labeled_result = sitk.OtsuThreshold(spherical_fiducials_image, mask, inside_value, outside_value, \n",
    "                                   number_of_histogram_bins, mask_output, mask_value)\n",
    "\n",
    "# Estimate the sphere radius from the segmented image using the LabelShapeStatisticsImageFilter.\n",
    "label_shape_analysis = sitk.LabelShapeStatisticsImageFilter()\n",
    "label_shape_analysis.SetBackgroundValue(inside_value)\n",
    "label_shape_analysis.Execute(labeled_result)\n",
    "print(\"The sphere's radius is: {0:.2f}mm\".format(label_shape_analysis.GetEquivalentSphericalRadius(outside_value)))"
   ]
  },
  {
   "cell_type": "code",
   "execution_count": null,
   "metadata": {
    "collapsed": true
   },
   "outputs": [],
   "source": [
    "# Visually inspect the results of segmentation, just to make sure.\n",
    "sitk.Show(sitk.LabelOverlay(sitk.Cast(sitk.IntensityWindowing(spherical_fiducials_image, windowMinimum=-32767, windowMaximum=-29611),\n",
    "                                      sitk.sitkUInt8), labeled_result, opacity=0.5))"
   ]
  },
  {
   "cell_type": "markdown",
   "metadata": {
    "collapsed": false
   },
   "source": [
    "Based on your visual inspection, did the automatic threshold correctly segment the sphere or did it over/under segment it?\n",
    "\n",
    "If automatic thresholding did not provide the desired result, you can correct it by allowing the user to modify the threshold under visual inspection. Implement this approach below."
   ]
  },
  {
   "cell_type": "code",
   "execution_count": null,
   "metadata": {
    "collapsed": false
   },
   "outputs": [],
   "source": [
    "# Your code here:"
   ]
  },
  {
   "cell_type": "markdown",
   "metadata": {
    "collapsed": false
   },
   "source": [
    "## Edge detection based approach\n",
    "\n",
    "In this approach we will localize the sphere's edges in 3D using SimpleITK. We then compute the least squares sphere that optimally fits the 3D points using scipy/numpy. The mathematical formulation for this solution is described in this [Insight Journal paper](http://www.insight-journal.org/download/viewpdf/769/1/download).  \n",
    "\n"
   ]
  },
  {
   "cell_type": "code",
   "execution_count": null,
   "metadata": {
    "collapsed": false
   },
   "outputs": [],
   "source": [
    "# Create a cropped version of the original image.\n",
    "sub_image = spherical_fiducials_image[mask_ranges[0][0]:mask_ranges[0][-1],\n",
    "                                      mask_ranges[1][0]:mask_ranges[1][-1],\n",
    "                                      mask_ranges[2][0]:mask_ranges[2][-1]]\n",
    "\n",
    "# Edge detection on the sub_image with appropriate thresholds and smoothing.\n",
    "edges = sitk.CannyEdgeDetection(sitk.Cast(sub_image, sitk.sitkFloat32), lowerThreshold=0.0, \n",
    "                                upperThreshold=200.0, variance = (5.0,5.0,5.0))"
   ]
  },
  {
   "cell_type": "markdown",
   "metadata": {
    "collapsed": false
   },
   "source": [
    "Get the 3D location of the edge points and fit a sphere to them."
   ]
  },
  {
   "cell_type": "code",
   "execution_count": null,
   "metadata": {
    "collapsed": false
   },
   "outputs": [],
   "source": [
    "edge_indexes = np.where(sitk.GetArrayFromImage(edges) == 1.0)\n",
    "\n",
    "# Note the reversed order of access between SimpleITK and numpy (z,y,x)\n",
    "physical_points = [edges.TransformIndexToPhysicalPoint([int(x), int(y), int(z)]) \\\n",
    "                   for z,y,x in zip(edge_indexes[0], edge_indexes[1], edge_indexes[2])]\n",
    "\n",
    "# Setup and solve linear equation system.\n",
    "A = np.ones((len(physical_points),4))\n",
    "b = np.zeros(len(physical_points))\n",
    "\n",
    "for row, point in enumerate(physical_points):\n",
    "    A[row,0:3] = -2*np.array(point)\n",
    "    b[row] = -linalg.norm(point)**2\n",
    "\n",
    "res,_,_,_ = linalg.lstsq(A,b)\n",
    "\n",
    "print(\"The sphere's radius is: {0:.2f}mm\".format(np.sqrt(linalg.norm(res[0:3])**2 - res[3])))"
   ]
  },
  {
   "cell_type": "code",
   "execution_count": null,
   "metadata": {
    "collapsed": true
   },
   "outputs": [],
   "source": [
    "# Visually inspect the results of edge detection, just to make sure. Note that because SimpleITK is working in the\n",
    "# physical world (not pixels, but mm) we can easily transfer the edges localized in the cropped image to the original.\n",
    "\n",
    "edge_label = sitk.Image(spherical_fiducials_image.GetSize(), sitk.sitkUInt16)\n",
    "edge_label.CopyInformation(spherical_fiducials_image)\n",
    "e_label = 255\n",
    "for point in physical_points:\n",
    "    edge_label[edge_label.TransformPhysicalPointToIndex(point)] = e_label\n",
    "\n",
    "sitk.Show(sitk.LabelOverlay(sitk.Cast(sitk.IntensityWindowing(spherical_fiducials_image, windowMinimum=-32767, windowMaximum=-29611),\n",
    "                                      sitk.sitkUInt8), edge_label, opacity=0.5))"
   ]
  },
  {
   "cell_type": "markdown",
   "metadata": {
    "collapsed": false
   },
   "source": [
    "## You've made it to the end of the notebook, you deserve to know the correct answer\n",
    "\n",
    "The sphere's radius is 3mm. "
   ]
  },
  {
   "cell_type": "code",
   "execution_count": null,
   "metadata": {
    "collapsed": true
   },
   "outputs": [],
   "source": []
  }
 ],
 "metadata": {
  "kernelspec": {
   "display_name": "Python 2",
   "language": "python",
   "name": "python2"
  },
  "language_info": {
   "codemirror_mode": {
    "name": "ipython",
    "version": 2
   },
   "file_extension": ".py",
   "mimetype": "text/x-python",
   "name": "python",
   "nbconvert_exporter": "python",
   "pygments_lexer": "ipython2",
   "version": "2.7.10"
  }
 },
 "nbformat": 4,
 "nbformat_minor": 0
}
